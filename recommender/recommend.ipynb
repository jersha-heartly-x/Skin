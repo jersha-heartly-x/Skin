{
 "cells": [
  {
   "cell_type": "code",
   "execution_count": 1,
   "metadata": {},
   "outputs": [],
   "source": [
    "import pandas as pd\n",
    "import numpy as np\n",
    "from sklearn.metrics.pairwise import cosine_similarity\n"
   ]
  },
  {
   "cell_type": "code",
   "execution_count": 2,
   "metadata": {},
   "outputs": [
    {
     "data": {
      "text/html": [
       "<div>\n",
       "<style scoped>\n",
       "    .dataframe tbody tr th:only-of-type {\n",
       "        vertical-align: middle;\n",
       "    }\n",
       "\n",
       "    .dataframe tbody tr th {\n",
       "        vertical-align: top;\n",
       "    }\n",
       "\n",
       "    .dataframe thead th {\n",
       "        text-align: right;\n",
       "    }\n",
       "</style>\n",
       "<table border=\"1\" class=\"dataframe\">\n",
       "  <thead>\n",
       "    <tr style=\"text-align: right;\">\n",
       "      <th></th>\n",
       "      <th>label</th>\n",
       "      <th>url</th>\n",
       "      <th>brand</th>\n",
       "      <th>name</th>\n",
       "      <th>price</th>\n",
       "      <th>skin type</th>\n",
       "      <th>spf</th>\n",
       "      <th>concern</th>\n",
       "      <th>concern 2</th>\n",
       "      <th>concern 3</th>\n",
       "      <th>key ingredient</th>\n",
       "      <th>formulation</th>\n",
       "    </tr>\n",
       "  </thead>\n",
       "  <tbody>\n",
       "    <tr>\n",
       "      <th>0</th>\n",
       "      <td>face-moisturisers</td>\n",
       "      <td>https://www.myntra.com/face-moisturisers/lakme...</td>\n",
       "      <td>Lakme</td>\n",
       "      <td>Absolute Perfect Radiance Skin Lightening Day ...</td>\n",
       "      <td>₹ 79</td>\n",
       "      <td>All</td>\n",
       "      <td>NaN</td>\n",
       "      <td>General Care</td>\n",
       "      <td>NaN</td>\n",
       "      <td>NaN</td>\n",
       "      <td>NaN</td>\n",
       "      <td>Cream</td>\n",
       "    </tr>\n",
       "    <tr>\n",
       "      <th>1</th>\n",
       "      <td>face-moisturisers</td>\n",
       "      <td>https://www.myntra.com/face-moisturisers/bioti...</td>\n",
       "      <td>Biotique</td>\n",
       "      <td>Bio Morning Nectar Flawless Sustainable Skin M...</td>\n",
       "      <td>₹ 165</td>\n",
       "      <td>All</td>\n",
       "      <td>NaN</td>\n",
       "      <td>Uneven Skin Tone</td>\n",
       "      <td>Hydration</td>\n",
       "      <td>Dark Spots</td>\n",
       "      <td>Honey</td>\n",
       "      <td>Lotion</td>\n",
       "    </tr>\n",
       "    <tr>\n",
       "      <th>2</th>\n",
       "      <td>face-moisturisers</td>\n",
       "      <td>https://www.myntra.com/face-moisturisers/nivea...</td>\n",
       "      <td>Nivea</td>\n",
       "      <td>Unisex Aloe Hydration Skin Cream 100 ml</td>\n",
       "      <td>₹ 92</td>\n",
       "      <td>All</td>\n",
       "      <td>NaN</td>\n",
       "      <td>Dull Skin</td>\n",
       "      <td>Dryness</td>\n",
       "      <td>General Care</td>\n",
       "      <td>Aloe Vera</td>\n",
       "      <td>Cream</td>\n",
       "    </tr>\n",
       "    <tr>\n",
       "      <th>3</th>\n",
       "      <td>face-moisturisers</td>\n",
       "      <td>https://www.myntra.com/face-moisturisers/vi-jo...</td>\n",
       "      <td>VI-JOHN</td>\n",
       "      <td>Women Set of 5 Saffron Fairness Cream Advanced</td>\n",
       "      <td>₹ 187</td>\n",
       "      <td>All</td>\n",
       "      <td>15 to 30</td>\n",
       "      <td>Softening and Smoothening</td>\n",
       "      <td>Softening and Smoothening</td>\n",
       "      <td>Sun Protection</td>\n",
       "      <td>Vitamin E</td>\n",
       "      <td>Cream</td>\n",
       "    </tr>\n",
       "    <tr>\n",
       "      <th>4</th>\n",
       "      <td>face-moisturisers</td>\n",
       "      <td>https://www.myntra.com/face-moisturisers/lakme...</td>\n",
       "      <td>Lakme</td>\n",
       "      <td>Peach Milk Soft Creme 150g</td>\n",
       "      <td>₹ 192</td>\n",
       "      <td>All</td>\n",
       "      <td>NaN</td>\n",
       "      <td>General Care</td>\n",
       "      <td>NaN</td>\n",
       "      <td>NaN</td>\n",
       "      <td>NaN</td>\n",
       "      <td>Cream</td>\n",
       "    </tr>\n",
       "  </tbody>\n",
       "</table>\n",
       "</div>"
      ],
      "text/plain": [
       "               label                                                url  \\\n",
       "0  face-moisturisers  https://www.myntra.com/face-moisturisers/lakme...   \n",
       "1  face-moisturisers  https://www.myntra.com/face-moisturisers/bioti...   \n",
       "2  face-moisturisers  https://www.myntra.com/face-moisturisers/nivea...   \n",
       "3  face-moisturisers  https://www.myntra.com/face-moisturisers/vi-jo...   \n",
       "4  face-moisturisers  https://www.myntra.com/face-moisturisers/lakme...   \n",
       "\n",
       "      brand                                               name  price  \\\n",
       "0     Lakme  Absolute Perfect Radiance Skin Lightening Day ...   ₹ 79   \n",
       "1  Biotique  Bio Morning Nectar Flawless Sustainable Skin M...  ₹ 165   \n",
       "2     Nivea            Unisex Aloe Hydration Skin Cream 100 ml   ₹ 92   \n",
       "3   VI-JOHN     Women Set of 5 Saffron Fairness Cream Advanced  ₹ 187   \n",
       "4     Lakme                         Peach Milk Soft Creme 150g  ₹ 192   \n",
       "\n",
       "  skin type       spf                    concern                  concern 2  \\\n",
       "0       All       NaN               General Care                        NaN   \n",
       "1       All       NaN           Uneven Skin Tone                  Hydration   \n",
       "2       All       NaN                  Dull Skin                    Dryness   \n",
       "3       All  15 to 30  Softening and Smoothening  Softening and Smoothening   \n",
       "4       All       NaN               General Care                        NaN   \n",
       "\n",
       "        concern 3 key ingredient formulation  \n",
       "0             NaN            NaN       Cream  \n",
       "1      Dark Spots          Honey      Lotion  \n",
       "2    General Care      Aloe Vera       Cream  \n",
       "3  Sun Protection      Vitamin E       Cream  \n",
       "4             NaN            NaN       Cream  "
      ]
     },
     "execution_count": 2,
     "metadata": {},
     "output_type": "execute_result"
    }
   ],
   "source": [
    "df = pd.read_csv('result.csv')\n",
    "df.head()"
   ]
  },
  {
   "cell_type": "code",
   "execution_count": 3,
   "metadata": {},
   "outputs": [
    {
     "data": {
      "text/plain": [
       "Index(['label', 'url', 'brand', 'name', 'price', 'skin type', 'spf', 'concern',\n",
       "       'concern 2', 'concern 3', 'key ingredient', 'formulation'],\n",
       "      dtype='object')"
      ]
     },
     "execution_count": 3,
     "metadata": {},
     "output_type": "execute_result"
    }
   ],
   "source": [
    "df.columns"
   ]
  },
  {
   "cell_type": "code",
   "execution_count": 4,
   "metadata": {},
   "outputs": [
    {
     "data": {
      "text/plain": [
       "(1872, 12)"
      ]
     },
     "execution_count": 4,
     "metadata": {},
     "output_type": "execute_result"
    }
   ],
   "source": [
    "df.shape"
   ]
  },
  {
   "cell_type": "markdown",
   "metadata": {},
   "source": [
    "## Data Preprocessing"
   ]
  },
  {
   "cell_type": "code",
   "execution_count": 5,
   "metadata": {},
   "outputs": [
    {
     "data": {
      "text/plain": [
       "label\n",
       "face-moisturisers    300\n",
       "cleanser             300\n",
       "concealer            300\n",
       "mask-and-peel        300\n",
       "foundation           300\n",
       "sunscreen            272\n",
       "eye-cream            100\n",
       "Name: count, dtype: int64"
      ]
     },
     "execution_count": 5,
     "metadata": {},
     "output_type": "execute_result"
    }
   ],
   "source": [
    "df['label'].value_counts()\n"
   ]
  },
  {
   "cell_type": "code",
   "execution_count": 6,
   "metadata": {},
   "outputs": [
    {
     "data": {
      "text/plain": [
       "label                0\n",
       "url                  0\n",
       "brand               46\n",
       "name                46\n",
       "price               46\n",
       "skin type          309\n",
       "spf               1452\n",
       "concern            380\n",
       "concern 2         1136\n",
       "concern 3         1319\n",
       "key ingredient    1159\n",
       "formulation        384\n",
       "dtype: int64"
      ]
     },
     "execution_count": 6,
     "metadata": {},
     "output_type": "execute_result"
    }
   ],
   "source": [
    "df.isna().sum()\n"
   ]
  },
  {
   "cell_type": "code",
   "execution_count": 7,
   "metadata": {},
   "outputs": [
    {
     "data": {
      "text/html": [
       "<div>\n",
       "<style scoped>\n",
       "    .dataframe tbody tr th:only-of-type {\n",
       "        vertical-align: middle;\n",
       "    }\n",
       "\n",
       "    .dataframe tbody tr th {\n",
       "        vertical-align: top;\n",
       "    }\n",
       "\n",
       "    .dataframe thead th {\n",
       "        text-align: right;\n",
       "    }\n",
       "</style>\n",
       "<table border=\"1\" class=\"dataframe\">\n",
       "  <thead>\n",
       "    <tr style=\"text-align: right;\">\n",
       "      <th></th>\n",
       "      <th>label</th>\n",
       "      <th>url</th>\n",
       "      <th>brand</th>\n",
       "      <th>name</th>\n",
       "      <th>price</th>\n",
       "      <th>skin type</th>\n",
       "      <th>spf</th>\n",
       "      <th>concern</th>\n",
       "      <th>concern 2</th>\n",
       "      <th>concern 3</th>\n",
       "      <th>key ingredient</th>\n",
       "      <th>formulation</th>\n",
       "    </tr>\n",
       "  </thead>\n",
       "  <tbody>\n",
       "    <tr>\n",
       "      <th>0</th>\n",
       "      <td>face-moisturisers</td>\n",
       "      <td>https://www.myntra.com/face-moisturisers/lakme...</td>\n",
       "      <td>Lakme</td>\n",
       "      <td>Absolute Perfect Radiance Skin Lightening Day ...</td>\n",
       "      <td>₹ 79</td>\n",
       "      <td>All</td>\n",
       "      <td>NaN</td>\n",
       "      <td>General Care</td>\n",
       "      <td></td>\n",
       "      <td></td>\n",
       "      <td>NaN</td>\n",
       "      <td>Cream</td>\n",
       "    </tr>\n",
       "    <tr>\n",
       "      <th>1</th>\n",
       "      <td>face-moisturisers</td>\n",
       "      <td>https://www.myntra.com/face-moisturisers/bioti...</td>\n",
       "      <td>Biotique</td>\n",
       "      <td>Bio Morning Nectar Flawless Sustainable Skin M...</td>\n",
       "      <td>₹ 165</td>\n",
       "      <td>All</td>\n",
       "      <td>NaN</td>\n",
       "      <td>Uneven Skin Tone</td>\n",
       "      <td>Hydration</td>\n",
       "      <td>Dark Spots</td>\n",
       "      <td>Honey</td>\n",
       "      <td>Lotion</td>\n",
       "    </tr>\n",
       "    <tr>\n",
       "      <th>2</th>\n",
       "      <td>face-moisturisers</td>\n",
       "      <td>https://www.myntra.com/face-moisturisers/nivea...</td>\n",
       "      <td>Nivea</td>\n",
       "      <td>Unisex Aloe Hydration Skin Cream 100 ml</td>\n",
       "      <td>₹ 92</td>\n",
       "      <td>All</td>\n",
       "      <td>NaN</td>\n",
       "      <td>Dull Skin</td>\n",
       "      <td>Dryness</td>\n",
       "      <td>General Care</td>\n",
       "      <td>Aloe Vera</td>\n",
       "      <td>Cream</td>\n",
       "    </tr>\n",
       "    <tr>\n",
       "      <th>3</th>\n",
       "      <td>face-moisturisers</td>\n",
       "      <td>https://www.myntra.com/face-moisturisers/vi-jo...</td>\n",
       "      <td>VI-JOHN</td>\n",
       "      <td>Women Set of 5 Saffron Fairness Cream Advanced</td>\n",
       "      <td>₹ 187</td>\n",
       "      <td>All</td>\n",
       "      <td>15 to 30</td>\n",
       "      <td>Softening and Smoothening</td>\n",
       "      <td>Softening and Smoothening</td>\n",
       "      <td>Sun Protection</td>\n",
       "      <td>Vitamin E</td>\n",
       "      <td>Cream</td>\n",
       "    </tr>\n",
       "    <tr>\n",
       "      <th>4</th>\n",
       "      <td>face-moisturisers</td>\n",
       "      <td>https://www.myntra.com/face-moisturisers/lakme...</td>\n",
       "      <td>Lakme</td>\n",
       "      <td>Peach Milk Soft Creme 150g</td>\n",
       "      <td>₹ 192</td>\n",
       "      <td>All</td>\n",
       "      <td>NaN</td>\n",
       "      <td>General Care</td>\n",
       "      <td></td>\n",
       "      <td></td>\n",
       "      <td>NaN</td>\n",
       "      <td>Cream</td>\n",
       "    </tr>\n",
       "  </tbody>\n",
       "</table>\n",
       "</div>"
      ],
      "text/plain": [
       "               label                                                url  \\\n",
       "0  face-moisturisers  https://www.myntra.com/face-moisturisers/lakme...   \n",
       "1  face-moisturisers  https://www.myntra.com/face-moisturisers/bioti...   \n",
       "2  face-moisturisers  https://www.myntra.com/face-moisturisers/nivea...   \n",
       "3  face-moisturisers  https://www.myntra.com/face-moisturisers/vi-jo...   \n",
       "4  face-moisturisers  https://www.myntra.com/face-moisturisers/lakme...   \n",
       "\n",
       "      brand                                               name  price  \\\n",
       "0     Lakme  Absolute Perfect Radiance Skin Lightening Day ...   ₹ 79   \n",
       "1  Biotique  Bio Morning Nectar Flawless Sustainable Skin M...  ₹ 165   \n",
       "2     Nivea            Unisex Aloe Hydration Skin Cream 100 ml   ₹ 92   \n",
       "3   VI-JOHN     Women Set of 5 Saffron Fairness Cream Advanced  ₹ 187   \n",
       "4     Lakme                         Peach Milk Soft Creme 150g  ₹ 192   \n",
       "\n",
       "  skin type       spf                    concern                  concern 2  \\\n",
       "0       All       NaN               General Care                              \n",
       "1       All       NaN           Uneven Skin Tone                  Hydration   \n",
       "2       All       NaN                  Dull Skin                    Dryness   \n",
       "3       All  15 to 30  Softening and Smoothening  Softening and Smoothening   \n",
       "4       All       NaN               General Care                              \n",
       "\n",
       "        concern 3 key ingredient formulation  \n",
       "0                            NaN       Cream  \n",
       "1      Dark Spots          Honey      Lotion  \n",
       "2    General Care      Aloe Vera       Cream  \n",
       "3  Sun Protection      Vitamin E       Cream  \n",
       "4                            NaN       Cream  "
      ]
     },
     "execution_count": 7,
     "metadata": {},
     "output_type": "execute_result"
    }
   ],
   "source": [
    "df['concern 2'] = df['concern 2'].fillna('')\n",
    "df['concern 3'] = df['concern 3'].fillna('')\n",
    "\n",
    "df.head()"
   ]
  },
  {
   "cell_type": "code",
   "execution_count": 8,
   "metadata": {},
   "outputs": [
    {
     "data": {
      "text/plain": [
       "0                                          General Care,,\n",
       "1                   Uneven Skin Tone,Hydration,Dark Spots\n",
       "2                          Dull Skin,Dryness,General Care\n",
       "3       Softening and Smoothening,Softening and Smooth...\n",
       "4                                          General Care,,\n",
       "                              ...                        \n",
       "1867                                       Dark Circles,,\n",
       "1868                Fine Lines and Wrinkles,Dark Circles,\n",
       "1869                   Dark Circles,Dark Circles,Eye Bags\n",
       "1870                                                  NaN\n",
       "1871                        Dark Circles,Eye Bags,Dryness\n",
       "Name: concern, Length: 1872, dtype: object"
      ]
     },
     "execution_count": 8,
     "metadata": {},
     "output_type": "execute_result"
    }
   ],
   "source": [
    "df['concern'] = df['concern'] + ',' + df['concern 2'] + ',' + df['concern 3']\n",
    "df['concern']"
   ]
  },
  {
   "cell_type": "code",
   "execution_count": 9,
   "metadata": {},
   "outputs": [],
   "source": [
    "df.drop(columns=['concern 2', 'concern 3', 'spf', 'key ingredient', 'formulation'], inplace = True)"
   ]
  },
  {
   "cell_type": "code",
   "execution_count": 10,
   "metadata": {},
   "outputs": [
    {
     "name": "stdout",
     "output_type": "stream",
     "text": [
      "<class 'pandas.core.frame.DataFrame'>\n",
      "Index: 1000 entries, 0 to 1871\n",
      "Data columns (total 7 columns):\n",
      " #   Column     Non-Null Count  Dtype \n",
      "---  ------     --------------  ----- \n",
      " 0   label      1000 non-null   object\n",
      " 1   url        1000 non-null   object\n",
      " 2   brand      967 non-null    object\n",
      " 3   name       967 non-null    object\n",
      " 4   price      967 non-null    object\n",
      " 5   skin type  967 non-null    object\n",
      " 6   concern    939 non-null    object\n",
      "dtypes: object(7)\n",
      "memory usage: 62.5+ KB\n"
     ]
    }
   ],
   "source": [
    "df2 = df[((df['label'] == 'face-moisturisers') | (df['label'] == 'mask-and-peel') | (df['label'] == 'cleanser') | (df['label'] == 'eye-cream'))]\n",
    "df2\n",
    "LABELS = list(df2.label.unique())\n",
    "df2.info()"
   ]
  },
  {
   "cell_type": "code",
   "execution_count": 11,
   "metadata": {},
   "outputs": [
    {
     "name": "stdout",
     "output_type": "stream",
     "text": [
      "<class 'pandas.core.frame.DataFrame'>\n",
      "Index: 967 entries, 0 to 966\n",
      "Data columns (total 7 columns):\n",
      " #   Column     Non-Null Count  Dtype \n",
      "---  ------     --------------  ----- \n",
      " 0   label      967 non-null    object\n",
      " 1   url        967 non-null    object\n",
      " 2   brand      967 non-null    object\n",
      " 3   name       967 non-null    object\n",
      " 4   price      967 non-null    object\n",
      " 5   skin type  967 non-null    object\n",
      " 6   concern    939 non-null    object\n",
      "dtypes: object(7)\n",
      "memory usage: 60.4+ KB\n"
     ]
    }
   ],
   "source": [
    "df2 = df2[df2['skin type'].isna() == False]\n",
    "df2.index = [i for i in range(0, len(df2))]\n",
    "df2.info()"
   ]
  },
  {
   "cell_type": "code",
   "execution_count": 12,
   "metadata": {},
   "outputs": [
    {
     "data": {
      "text/plain": [
       "0                                         general care,,\n",
       "1                  uneven skin tone,hydration,dark spots\n",
       "2                         dull skin,dryness,general care\n",
       "3      softening and smoothening,softening and smooth...\n",
       "4                                         general care,,\n",
       "                             ...                        \n",
       "962                                       dark circles,,\n",
       "963                fine lines and wrinkles,dark circles,\n",
       "964                   dark circles,dark circles,eye bags\n",
       "965                                                  NaN\n",
       "966                        dark circles,eye bags,dryness\n",
       "Name: concern, Length: 967, dtype: object"
      ]
     },
     "execution_count": 12,
     "metadata": {},
     "output_type": "execute_result"
    }
   ],
   "source": [
    "df2['concern'] = df2['concern'].str.lower()\n",
    "df2['concern']"
   ]
  },
  {
   "cell_type": "code",
   "execution_count": 13,
   "metadata": {},
   "outputs": [
    {
     "data": {
      "text/plain": [
       "<Axes: title={'center': 'Face moisturizers'}, xlabel='concern'>"
      ]
     },
     "execution_count": 13,
     "metadata": {},
     "output_type": "execute_result"
    },
    {
     "data": {
      "image/png": "[encoded data removed]",
      "text/plain": [
       "<Figure size 640x480 with 1 Axes>"
      ]
     },
     "metadata": {},
     "output_type": "display_data"
    }
   ],
   "source": [
    "df2[df2['label'] == 'face-moisturisers']['concern'].value_counts()[:7].plot(kind='bar', title='Face moisturizers')"
   ]
  },
  {
   "cell_type": "code",
   "execution_count": 14,
   "metadata": {},
   "outputs": [
    {
     "data": {
      "text/plain": [
       "<Axes: title={'center': 'Mask & Peel'}, xlabel='concern'>"
      ]
     },
     "execution_count": 14,
     "metadata": {},
     "output_type": "execute_result"
    },
    {
     "data": {
      "image/png": "[encoded data removed]",
      "text/plain": [
       "<Figure size 640x480 with 1 Axes>"
      ]
     },
     "metadata": {},
     "output_type": "display_data"
    }
   ],
   "source": [
    "df2[df2['label'] == 'mask-and-peel']['concern'].value_counts()[:7].plot(kind='bar', title='Mask & Peel')"
   ]
  },
  {
   "cell_type": "code",
   "execution_count": 15,
   "metadata": {},
   "outputs": [
    {
     "data": {
      "text/plain": [
       "<Axes: title={'center': 'Eye cream'}, xlabel='concern'>"
      ]
     },
     "execution_count": 15,
     "metadata": {},
     "output_type": "execute_result"
    },
    {
     "data": {
      "image/png": "[encoded data removed]",
      "text/plain": [
       "<Figure size 640x480 with 1 Axes>"
      ]
     },
     "metadata": {},
     "output_type": "display_data"
    }
   ],
   "source": [
    "df2[df2['label'] == 'eye-cream']['concern'].value_counts()[:7].plot(kind='bar', title='Eye cream')"
   ]
  },
  {
   "cell_type": "code",
   "execution_count": 16,
   "metadata": {},
   "outputs": [
    {
     "data": {
      "text/plain": [
       "<Axes: title={'center': 'Cleanser'}, xlabel='concern'>"
      ]
     },
     "execution_count": 16,
     "metadata": {},
     "output_type": "execute_result"
    },
    {
     "data": {
      "image/png": "[encoded data removed]",
      "text/plain": [
       "<Figure size 640x480 with 1 Axes>"
      ]
     },
     "metadata": {},
     "output_type": "display_data"
    }
   ],
   "source": [
    "df2[df2['label'] == 'cleanser']['concern'].value_counts()[:7].plot(kind='bar', title='Cleanser')"
   ]
  },
  {
   "cell_type": "code",
   "execution_count": 17,
   "metadata": {},
   "outputs": [
    {
     "name": "stdout",
     "output_type": "stream",
     "text": [
      "<class 'pandas.core.frame.DataFrame'>\n",
      "Index: 967 entries, 0 to 966\n",
      "Data columns (total 7 columns):\n",
      " #   Column     Non-Null Count  Dtype \n",
      "---  ------     --------------  ----- \n",
      " 0   label      967 non-null    object\n",
      " 1   url        967 non-null    object\n",
      " 2   brand      967 non-null    object\n",
      " 3   name       967 non-null    object\n",
      " 4   price      967 non-null    object\n",
      " 5   skin type  967 non-null    object\n",
      " 6   concern    967 non-null    object\n",
      "dtypes: object(7)\n",
      "memory usage: 92.7+ KB\n"
     ]
    }
   ],
   "source": [
    "top_concerns = {'face-moisturisers':'general care', 'mask-and-peel':'daily use', 'cleanser':'general care', 'eye-cream':'fine lines,wrinkles,dark circles,eye bags' }\n",
    "entries = len(df2)\n",
    "for i in range(entries):\n",
    "    label = df2.iloc[i]['label']\n",
    "    if pd.isnull(df2.iloc[i]['concern']):\n",
    "        df2.loc[i, 'concern'] = top_concerns[label]\n",
    "df2.info()"
   ]
  },
  {
   "cell_type": "code",
   "execution_count": 18,
   "metadata": {},
   "outputs": [
    {
     "data": {
      "text/html": [
       "<div>\n",
       "<style scoped>\n",
       "    .dataframe tbody tr th:only-of-type {\n",
       "        vertical-align: middle;\n",
       "    }\n",
       "\n",
       "    .dataframe tbody tr th {\n",
       "        vertical-align: top;\n",
       "    }\n",
       "\n",
       "    .dataframe thead th {\n",
       "        text-align: right;\n",
       "    }\n",
       "</style>\n",
       "<table border=\"1\" class=\"dataframe\">\n",
       "  <thead>\n",
       "    <tr style=\"text-align: right;\">\n",
       "      <th></th>\n",
       "      <th>label</th>\n",
       "      <th>url</th>\n",
       "      <th>brand</th>\n",
       "      <th>name</th>\n",
       "      <th>price</th>\n",
       "      <th>skin type</th>\n",
       "      <th>concern</th>\n",
       "    </tr>\n",
       "  </thead>\n",
       "  <tbody>\n",
       "    <tr>\n",
       "      <th>0</th>\n",
       "      <td>face-moisturisers</td>\n",
       "      <td>https://www.myntra.com/face-moisturisers/lakme...</td>\n",
       "      <td>lakme</td>\n",
       "      <td>absolute perfect radiance skin lightening day ...</td>\n",
       "      <td>₹ 79</td>\n",
       "      <td>all</td>\n",
       "      <td>general care,,</td>\n",
       "    </tr>\n",
       "    <tr>\n",
       "      <th>1</th>\n",
       "      <td>face-moisturisers</td>\n",
       "      <td>https://www.myntra.com/face-moisturisers/bioti...</td>\n",
       "      <td>biotique</td>\n",
       "      <td>bio morning nectar flawless sustainable skin m...</td>\n",
       "      <td>₹ 165</td>\n",
       "      <td>all</td>\n",
       "      <td>uneven skin tone,hydration,dark spots</td>\n",
       "    </tr>\n",
       "    <tr>\n",
       "      <th>2</th>\n",
       "      <td>face-moisturisers</td>\n",
       "      <td>https://www.myntra.com/face-moisturisers/nivea...</td>\n",
       "      <td>nivea</td>\n",
       "      <td>unisex aloe hydration skin cream 100 ml</td>\n",
       "      <td>₹ 92</td>\n",
       "      <td>all</td>\n",
       "      <td>dull skin,dryness,general care</td>\n",
       "    </tr>\n",
       "    <tr>\n",
       "      <th>3</th>\n",
       "      <td>face-moisturisers</td>\n",
       "      <td>https://www.myntra.com/face-moisturisers/vi-jo...</td>\n",
       "      <td>vi-john</td>\n",
       "      <td>women set of 5 saffron fairness cream advanced</td>\n",
       "      <td>₹ 187</td>\n",
       "      <td>all</td>\n",
       "      <td>softening,smoothening,softening,smoothening,su...</td>\n",
       "    </tr>\n",
       "    <tr>\n",
       "      <th>4</th>\n",
       "      <td>face-moisturisers</td>\n",
       "      <td>https://www.myntra.com/face-moisturisers/lakme...</td>\n",
       "      <td>lakme</td>\n",
       "      <td>peach milk soft creme 150g</td>\n",
       "      <td>₹ 192</td>\n",
       "      <td>all</td>\n",
       "      <td>general care,,</td>\n",
       "    </tr>\n",
       "    <tr>\n",
       "      <th>...</th>\n",
       "      <td>...</td>\n",
       "      <td>...</td>\n",
       "      <td>...</td>\n",
       "      <td>...</td>\n",
       "      <td>...</td>\n",
       "      <td>...</td>\n",
       "      <td>...</td>\n",
       "    </tr>\n",
       "    <tr>\n",
       "      <th>962</th>\n",
       "      <td>eye-cream</td>\n",
       "      <td>https://www.myntra.com/eye-cream/skinkraft/ski...</td>\n",
       "      <td>skinkraft</td>\n",
       "      <td>vitamin c+e under eye gel for pigmented under ...</td>\n",
       "      <td>₹ 449</td>\n",
       "      <td>all</td>\n",
       "      <td>dark circles,,</td>\n",
       "    </tr>\n",
       "    <tr>\n",
       "      <th>963</th>\n",
       "      <td>eye-cream</td>\n",
       "      <td>https://www.myntra.com/eye-cream/casmara/casma...</td>\n",
       "      <td>casmara</td>\n",
       "      <td>eye-cream 15 ml</td>\n",
       "      <td>₹ 2200</td>\n",
       "      <td>all</td>\n",
       "      <td>fine lines,wrinkles,dark circles,</td>\n",
       "    </tr>\n",
       "    <tr>\n",
       "      <th>964</th>\n",
       "      <td>eye-cream</td>\n",
       "      <td>https://www.myntra.com/eye-cream/myglamm/mygla...</td>\n",
       "      <td>myglamm</td>\n",
       "      <td>white youthfull hydrating eye cream with water...</td>\n",
       "      <td>₹ 716</td>\n",
       "      <td>all</td>\n",
       "      <td>dark circles,dark circles,eye bags</td>\n",
       "    </tr>\n",
       "    <tr>\n",
       "      <th>965</th>\n",
       "      <td>eye-cream</td>\n",
       "      <td>https://www.myntra.com/eye-cream/makeup-revolu...</td>\n",
       "      <td>makeup revolution london</td>\n",
       "      <td>hydro bank hydrating &amp; cooling eye balm</td>\n",
       "      <td>₹ 1050</td>\n",
       "      <td>all</td>\n",
       "      <td>fine lines,wrinkles,dark circles,eye bags</td>\n",
       "    </tr>\n",
       "    <tr>\n",
       "      <th>966</th>\n",
       "      <td>eye-cream</td>\n",
       "      <td>https://www.myntra.com/eye-cream/yves-rocher/y...</td>\n",
       "      <td>yves rocher</td>\n",
       "      <td>white botanical exceptional youth sustainable ...</td>\n",
       "      <td>₹ 1035</td>\n",
       "      <td>all</td>\n",
       "      <td>dark circles,eye bags,dryness</td>\n",
       "    </tr>\n",
       "  </tbody>\n",
       "</table>\n",
       "<p>967 rows × 7 columns</p>\n",
       "</div>"
      ],
      "text/plain": [
       "                 label                                                url  \\\n",
       "0    face-moisturisers  https://www.myntra.com/face-moisturisers/lakme...   \n",
       "1    face-moisturisers  https://www.myntra.com/face-moisturisers/bioti...   \n",
       "2    face-moisturisers  https://www.myntra.com/face-moisturisers/nivea...   \n",
       "3    face-moisturisers  https://www.myntra.com/face-moisturisers/vi-jo...   \n",
       "4    face-moisturisers  https://www.myntra.com/face-moisturisers/lakme...   \n",
       "..                 ...                                                ...   \n",
       "962          eye-cream  https://www.myntra.com/eye-cream/skinkraft/ski...   \n",
       "963          eye-cream  https://www.myntra.com/eye-cream/casmara/casma...   \n",
       "964          eye-cream  https://www.myntra.com/eye-cream/myglamm/mygla...   \n",
       "965          eye-cream  https://www.myntra.com/eye-cream/makeup-revolu...   \n",
       "966          eye-cream  https://www.myntra.com/eye-cream/yves-rocher/y...   \n",
       "\n",
       "                        brand  \\\n",
       "0                       lakme   \n",
       "1                    biotique   \n",
       "2                       nivea   \n",
       "3                     vi-john   \n",
       "4                       lakme   \n",
       "..                        ...   \n",
       "962                 skinkraft   \n",
       "963                   casmara   \n",
       "964                   myglamm   \n",
       "965  makeup revolution london   \n",
       "966               yves rocher   \n",
       "\n",
       "                                                  name   price skin type  \\\n",
       "0    absolute perfect radiance skin lightening day ...    ₹ 79       all   \n",
       "1    bio morning nectar flawless sustainable skin m...   ₹ 165       all   \n",
       "2              unisex aloe hydration skin cream 100 ml    ₹ 92       all   \n",
       "3       women set of 5 saffron fairness cream advanced   ₹ 187       all   \n",
       "4                           peach milk soft creme 150g   ₹ 192       all   \n",
       "..                                                 ...     ...       ...   \n",
       "962  vitamin c+e under eye gel for pigmented under ...   ₹ 449       all   \n",
       "963                                    eye-cream 15 ml  ₹ 2200       all   \n",
       "964  white youthfull hydrating eye cream with water...   ₹ 716       all   \n",
       "965            hydro bank hydrating & cooling eye balm  ₹ 1050       all   \n",
       "966  white botanical exceptional youth sustainable ...  ₹ 1035       all   \n",
       "\n",
       "                                               concern  \n",
       "0                                       general care,,  \n",
       "1                uneven skin tone,hydration,dark spots  \n",
       "2                       dull skin,dryness,general care  \n",
       "3    softening,smoothening,softening,smoothening,su...  \n",
       "4                                       general care,,  \n",
       "..                                                 ...  \n",
       "962                                     dark circles,,  \n",
       "963                  fine lines,wrinkles,dark circles,  \n",
       "964                 dark circles,dark circles,eye bags  \n",
       "965          fine lines,wrinkles,dark circles,eye bags  \n",
       "966                      dark circles,eye bags,dryness  \n",
       "\n",
       "[967 rows x 7 columns]"
      ]
     },
     "execution_count": 18,
     "metadata": {},
     "output_type": "execute_result"
    }
   ],
   "source": [
    "df2['brand'] = df2['brand'].str.lower()\n",
    "df2['name'] = df2['name'].str.lower()\n",
    "df2['skin type'] = df2['skin type'].str.lower()\n",
    "df2['concern'] = df2['concern'].str.replace(' and ', ',').str.replace(' or ', ',')\n",
    "df2"
   ]
  },
  {
   "cell_type": "code",
   "execution_count": 19,
   "metadata": {},
   "outputs": [
    {
     "data": {
      "text/plain": [
       "{'general care': 158,\n",
       " 'uneven skin tone': 76,\n",
       " 'hydration': 156,\n",
       " 'dark spots': 71,\n",
       " 'dull skin': 166,\n",
       " 'dryness': 119,\n",
       " 'softening': 112,\n",
       " 'smoothening': 112,\n",
       " 'sun protection': 21,\n",
       " 'irregular textures': 6,\n",
       " 'pigmentation': 71,\n",
       " 'skin inflammation': 11,\n",
       " 'fine lines': 133,\n",
       " 'wrinkles': 133,\n",
       " 'deep nourishment': 106,\n",
       " 'blackheads': 61,\n",
       " 'whiteheads': 61,\n",
       " 'excess oil': 90,\n",
       " 'skin sagging': 20,\n",
       " 'acne': 155,\n",
       " 'blemishes': 155,\n",
       " 'tan removal': 48,\n",
       " 'redness': 15,\n",
       " 'anti-pollution': 60,\n",
       " 'pore care': 110,\n",
       " 'lightening': 27,\n",
       " 'daily use': 158,\n",
       " 'blackheads removal': 4,\n",
       " 'oily skin': 16,\n",
       " 'oil control': 15,\n",
       " 'anti-ageing': 2,\n",
       " 'anti acne scarring': 1,\n",
       " 'skin tightening': 2,\n",
       " 'dark circles': 103,\n",
       " 'eye bags': 60}"
      ]
     },
     "execution_count": 19,
     "metadata": {},
     "output_type": "execute_result"
    }
   ],
   "source": [
    "def concern_elements(comma_sep_concerns):\n",
    "    words = comma_sep_concerns.split(',')\n",
    "    for w in words:\n",
    "        if w != '':\n",
    "            temp = w.rstrip()\n",
    "            if temp in concerns:\n",
    "                concerns[temp] += 1\n",
    "            else:\n",
    "                concerns[temp] = 1\n",
    "\n",
    "\n",
    "            \n",
    "# features\n",
    "list(df2['skin type'].unique())\n",
    "concerns = {}\n",
    "for i in range(entries):\n",
    "    concern_elements(df2.iloc[i]['concern'])\n",
    "\n",
    "concerns"
   ]
  },
  {
   "cell_type": "code",
   "execution_count": 20,
   "metadata": {},
   "outputs": [
    {
     "data": {
      "text/plain": [
       "{'general care': 158,\n",
       " 'hydration': 156,\n",
       " 'dull skin': 166,\n",
       " 'dryness': 119,\n",
       " 'softening': 112,\n",
       " 'smoothening': 112,\n",
       " 'fine lines': 133,\n",
       " 'wrinkles': 133,\n",
       " 'deep nourishment': 106,\n",
       " 'acne': 155,\n",
       " 'blemishes': 155,\n",
       " 'pore care': 110,\n",
       " 'daily use': 158,\n",
       " 'dark circles': 103}"
      ]
     },
     "execution_count": 20,
     "metadata": {},
     "output_type": "execute_result"
    }
   ],
   "source": [
    "c = list(concerns.keys())\n",
    "for concern in c:\n",
    "    if concerns[concern] <100:\n",
    "        concerns.pop(concern)\n",
    "\n",
    "concerns"
   ]
  },
  {
   "cell_type": "code",
   "execution_count": 21,
   "metadata": {},
   "outputs": [
    {
     "data": {
      "text/plain": [
       "['all',\n",
       " 'normal',\n",
       " 'dry',\n",
       " 'oily',\n",
       " 'combination',\n",
       " 'sensitive',\n",
       " 'general care',\n",
       " 'hydration',\n",
       " 'dull skin',\n",
       " 'dryness',\n",
       " 'softening',\n",
       " 'smoothening',\n",
       " 'fine lines',\n",
       " 'wrinkles',\n",
       " 'deep nourishment',\n",
       " 'acne',\n",
       " 'blemishes',\n",
       " 'pore care',\n",
       " 'daily use',\n",
       " 'dark circles']"
      ]
     },
     "execution_count": 21,
     "metadata": {},
     "output_type": "execute_result"
    }
   ],
   "source": [
    "features = list(df2['skin type'].unique()) + list(concerns)\n",
    "features"
   ]
  },
  {
   "cell_type": "code",
   "execution_count": 22,
   "metadata": {},
   "outputs": [
    {
     "data": {
      "text/plain": [
       "['normal',\n",
       " 'dry',\n",
       " 'oily',\n",
       " 'combination',\n",
       " 'sensitive',\n",
       " 'general care',\n",
       " 'hydration',\n",
       " 'dull skin',\n",
       " 'dryness',\n",
       " 'softening',\n",
       " 'smoothening',\n",
       " 'fine lines',\n",
       " 'wrinkles',\n",
       " 'acne',\n",
       " 'blemishes',\n",
       " 'pore care',\n",
       " 'daily use',\n",
       " 'dark circles']"
      ]
     },
     "execution_count": 22,
     "metadata": {},
     "output_type": "execute_result"
    }
   ],
   "source": [
    "features.remove('all')\n",
    "features.remove('deep nourishment')\n",
    "features"
   ]
  },
  {
   "cell_type": "code",
   "execution_count": 23,
   "metadata": {},
   "outputs": [
    {
     "data": {
      "text/plain": [
       "array([[1., 1., 1., ..., 0., 0., 0.],\n",
       "       [1., 1., 1., ..., 0., 0., 0.],\n",
       "       [1., 1., 1., ..., 0., 0., 0.],\n",
       "       ...,\n",
       "       [1., 1., 1., ..., 0., 0., 1.],\n",
       "       [1., 1., 1., ..., 0., 0., 1.],\n",
       "       [1., 1., 1., ..., 0., 0., 1.]])"
      ]
     },
     "execution_count": 23,
     "metadata": {},
     "output_type": "execute_result"
    }
   ],
   "source": [
    "def search_concern(target, i):\n",
    "    if target in df2.iloc[i]['concern']:\n",
    "        return True\n",
    "    return False\n",
    "\n",
    "one_hot_encodings = np.zeros([entries, len(features)])\n",
    "\n",
    "#skin types first\n",
    "for i in range(entries):\n",
    "    for j in range(5):\n",
    "        target = features[j]\n",
    "        sk_type = df2.iloc[i]['skin type']\n",
    "        if sk_type == 'all':\n",
    "            one_hot_encodings[i][0:5] = 1\n",
    "        elif target == sk_type:\n",
    "            one_hot_encodings[i][j] = 1\n",
    "\n",
    "#other features\n",
    "for i in range(entries):\n",
    "    for j in range(5, len(features)):\n",
    "        feature = features[j]\n",
    "        if feature in df2.iloc[i]['concern']:\n",
    "            one_hot_encodings[i][j] = 1\n",
    "\n",
    "one_hot_encodings"
   ]
  },
  {
   "cell_type": "code",
   "execution_count": 24,
   "metadata": {},
   "outputs": [],
   "source": [
    "# utility functions\n",
    "def name2index(name):\n",
    "    return df2[df2[\"name\"]==name].index.tolist()[0]\n",
    "\n",
    "def index2prod(index):\n",
    "    return df2.iloc[index]\n",
    "\n",
    "def wrap(info_arr):\n",
    "    result = {}\n",
    "    result['brand'] = info_arr[0]\n",
    "    result['name'] = info_arr[1]\n",
    "    result['price'] = info_arr[2]\n",
    "    result['url'] = info_arr[3]\n",
    "    result['skin type'] = info_arr[4]\n",
    "    result['concern'] = str(info_arr[5]).split(',')\n",
    "    return result\n",
    "\n",
    "def recs_cs(vector = None, name = None, label = None, count = 5):\n",
    "    products = []\n",
    "    if name:\n",
    "        idx = name2index(name)\n",
    "        fv = one_hot_encodings[idx]\n",
    "    elif vector:\n",
    "        fv = vector\n",
    "        \n",
    "    cs_values = cosine_similarity(np.array([fv, ]), one_hot_encodings)\n",
    "    df2['cs'] = cs_values[0]\n",
    "    \n",
    "    if label:\n",
    "        dff = df2[df2['label'] == label]\n",
    "    else:\n",
    "        dff = df2\n",
    "    \n",
    "    if name:\n",
    "        dff = dff[dff['name'] != name]\n",
    "\n",
    "    recommendations = dff.sort_values('cs', ascending=False).head(count)\n",
    "    #   print(f\"Top {count} matching {label} items\")\n",
    "    data = recommendations[['brand', 'name', 'price', 'url','skin type','concern']].to_dict('split')['data']\n",
    "    for element in data:\n",
    "        products.append(wrap(element))\n",
    "    return products\n",
    "\n",
    "\n",
    "# function to recommend essentials based on features directly or an existing product\n",
    "def recs_essentials(vector = None, name = None):\n",
    "    response = {}\n",
    "    for label in LABELS:\n",
    "        if name: \n",
    "            r = recs_cs(None, name, label)\n",
    "        elif vector:\n",
    "            r = recs_cs(vector, None, label)\n",
    "        response[label] = r\n",
    "    return response"
   ]
  },
  {
   "cell_type": "code",
   "execution_count": 25,
   "metadata": {},
   "outputs": [
    {
     "data": {
      "text/plain": [
       "{'face-moisturisers': [{'brand': 'innisfree',\n",
       "   'name': 'bija trouble lotion 100ml',\n",
       "   'price': '₹ 880',\n",
       "   'url': 'https://www.myntra.com/face-moisturisers/innisfree/innisfree-bija-trouble-lotion-100ml/10858870/buy',\n",
       "   'skin type': 'all',\n",
       "   'concern': ['acne', 'blemishes', 'general care', 'pigmentation']},\n",
       "  {'brand': 'the man company',\n",
       "   'name': 'shea butter & vitamin e daily moisturiser for normal skin 50 g',\n",
       "   'price': '₹ 251',\n",
       "   'url': 'https://www.myntra.com/face-moisturisers/the-man-company/the-man-company-shea-butter--vitamin-e-daily-moisturiser-for-normal-skin-50-g/10320617/buy',\n",
       "   'skin type': 'all',\n",
       "   'concern': ['general care', 'skin sagging', 'softening', 'smoothening']},\n",
       "  {'brand': 'the man company',\n",
       "   'name': 'multani mitti & coco butter skin brightening cream 50 g',\n",
       "   'price': '₹ 503',\n",
       "   'url': 'https://www.myntra.com/face-moisturisers/the-man-company/the-man-company-multani-mitti--coco-butter-skin-brightening-cream-50-g/8191737/buy',\n",
       "   'skin type': 'all',\n",
       "   'concern': ['general care', 'acne', 'blemishes', 'skin inflammation']},\n",
       "  {'brand': 'sugar',\n",
       "   'name': 'bling leader illuminating moisturizer - 01 gold diggin 25 ml',\n",
       "   'price': '₹ 499',\n",
       "   'url': 'https://www.myntra.com/face-moisturisers/sugar/sugar-bling-leader-illuminating-moisturizer---01-gold-diggin-25-ml/11220486/buy',\n",
       "   'skin type': 'all',\n",
       "   'concern': ['general care', 'softening', 'smoothening', 'anti-pollution']},\n",
       "  {'brand': 'lakme',\n",
       "   'name': 'absolute perfect radiance skin lightening day creme 15g',\n",
       "   'price': '₹ 79',\n",
       "   'url': 'https://www.myntra.com/face-moisturisers/lakme/lakme-absolute-perfect-radiance-skin-lightening-day-creme-15g/4384871/buy',\n",
       "   'skin type': 'all',\n",
       "   'concern': ['general care', '', '']}],\n",
       " 'cleanser': [{'brand': 'good vibes',\n",
       "   'name': 'transparent activated charcoal deep cleansing face wash',\n",
       "   'price': '₹ 175',\n",
       "   'url': 'https://www.myntra.com/face-wash-and-cleanser/good-vibes/good-vibes-transparent-activated-charcoal-deep-cleansing-face-wash/14654350/buy',\n",
       "   'skin type': 'all',\n",
       "   'concern': ['general care', 'daily use', 'softening', 'smoothening']},\n",
       "  {'brand': 'good vibes',\n",
       "   'name': 'women transparent papaya brightening face wash',\n",
       "   'price': '₹ 175',\n",
       "   'url': 'https://www.myntra.com/face-wash-and-cleanser/good-vibes/good-vibes-women-transparent-papaya-brightening-face-wash/14654236/buy',\n",
       "   'skin type': 'all',\n",
       "   'concern': ['general care', 'daily use', 'softening', 'smoothening']},\n",
       "  {'brand': 'biotique',\n",
       "   'name': 'bio berberry hydrating cleanser 800 ml',\n",
       "   'price': '₹ 551',\n",
       "   'url': 'https://www.myntra.com/face-wash-and-cleanser/biotique/biotique-bio-berberry-hydrating-cleanser-800-ml/1661444/buy',\n",
       "   'skin type': 'all',\n",
       "   'concern': ['general care', 'general care', 'daily use']},\n",
       "  {'brand': 'lotus herbals',\n",
       "   'name': 'phyto-rx daily deep cleansing face wash, 80g',\n",
       "   'price': '₹ 395',\n",
       "   'url': 'https://www.myntra.com/face-wash-and-cleanser/lotus-herbals/lotus-herbals-phyto-rx-daily-deep-cleansing-face-wash-80g/870708/buy',\n",
       "   'skin type': 'all',\n",
       "   'concern': ['general care', 'daily use', '']},\n",
       "  {'brand': 'biotique',\n",
       "   'name': 'bio berberry hydrating sustainable cleanser 120 ml',\n",
       "   'price': '₹ 98',\n",
       "   'url': 'https://www.myntra.com/face-wash-and-cleanser/biotique/biotique-bio-berberry-hydrating-sustainable-cleanser-120-ml/1919961/buy',\n",
       "   'skin type': 'all',\n",
       "   'concern': ['general care', 'general care', 'daily use']}],\n",
       " 'mask-and-peel': [{'brand': 'the face shop',\n",
       "   'name': 'smile foot peeling mask',\n",
       "   'price': '₹ 552',\n",
       "   'url': 'https://www.myntra.com/mask-and-peel/the-face-shop/the-face-shop-smile-foot-peeling-mask/7249637/buy',\n",
       "   'skin type': 'all',\n",
       "   'concern': ['softening', 'smoothening', 'daily use', '']},\n",
       "  {'brand': 'laneige',\n",
       "   'name': 'water sleeping mask 25 ml',\n",
       "   'price': '₹ 560',\n",
       "   'url': 'https://www.myntra.com/mask-and-peel/laneige/laneige-water-sleeping-mask-25-ml/12363610/buy',\n",
       "   'skin type': 'all',\n",
       "   'concern': ['daily use', '', '']},\n",
       "  {'brand': 'glamveda',\n",
       "   'name': 'hydrate & glow rice cream masque 40 gm',\n",
       "   'price': '₹ 240',\n",
       "   'url': 'https://www.myntra.com/mask-and-peel/glamveda/glamveda-hydrate--glow-rice-cream-masque-40-gm/14671490/buy',\n",
       "   'skin type': 'all',\n",
       "   'concern': ['daily use']},\n",
       "  {'brand': 'shiseido',\n",
       "   'name': 'waso purifying peel off mask 100 ml',\n",
       "   'price': '₹ 2400',\n",
       "   'url': 'https://www.myntra.com/mask-and-peel/shiseido/shiseido-waso-purifying-peel-off-mask-100-ml/10030741/buy',\n",
       "   'skin type': 'all',\n",
       "   'concern': ['daily use', '', '']},\n",
       "  {'brand': 'innisfree',\n",
       "   'name': 'unisex rice capsule recipe pack 10 ml',\n",
       "   'price': '₹ 135',\n",
       "   'url': 'https://www.myntra.com/mask-and-peel/innisfree/innisfree-unisex-rice-capsule-recipe-pack-10-ml/11131022/buy',\n",
       "   'skin type': 'all',\n",
       "   'concern': ['daily use', '', '']}],\n",
       " 'eye-cream': [{'brand': 'colorbar',\n",
       "   'name': 'hydra white under eye serum 12 ml',\n",
       "   'price': '₹ 614',\n",
       "   'url': 'https://www.myntra.com/eye-cream/colorbar/colorbar-hydra-white-under-eye-serum-12-ml/1349162/buy',\n",
       "   'skin type': 'all',\n",
       "   'concern': ['lightening', '', '']},\n",
       "  {'brand': 'biotique',\n",
       "   'name': 'set of sustainable eye cream & skin lotion',\n",
       "   'price': '₹ 398',\n",
       "   'url': 'https://www.myntra.com/eye-cream/biotique/biotique-set-of-sustainable-eye-cream--skin-lotion/15060728/buy',\n",
       "   'skin type': 'all',\n",
       "   'concern': ['dark circles', 'eye bags', 'dark circles']},\n",
       "  {'brand': 'the body shop',\n",
       "   'name': 'unisex oils of life sustainable eye cream-gel 20 ml',\n",
       "   'price': '₹ 2495',\n",
       "   'url': 'https://www.myntra.com/eye-cream/the-body-shop/the-body-shop-unisex-oils-of-life-sustainable-eye-cream-gel-20-ml/1974961/buy',\n",
       "   'skin type': 'all',\n",
       "   'concern': ['dark circles', '', '']},\n",
       "  {'brand': 'kora organics',\n",
       "   'name': 'noni radiant eye oil 10 ml',\n",
       "   'price': '₹ 3700',\n",
       "   'url': 'https://www.myntra.com/eye-cream/kora-organics/kora-organics-noni-radiant-eye-oil-10-ml/14529984/buy',\n",
       "   'skin type': 'all',\n",
       "   'concern': ['lightening', 'dryness', '']},\n",
       "  {'brand': 'biotique',\n",
       "   'name': 'almond eye cream duo',\n",
       "   'price': '₹ 298',\n",
       "   'url': 'https://www.myntra.com/eye-cream/biotique/biotique-almond-eye-cream-duo/7037618/buy',\n",
       "   'skin type': 'all',\n",
       "   'concern': ['dark circles', 'eye bags', 'dark circles']}]}"
      ]
     },
     "execution_count": 25,
     "metadata": {},
     "output_type": "execute_result"
    }
   ],
   "source": [
    "# features = ['normal','dry','oily','combination', 'acne','sensitive','fine lines', 'wrinkles', 'redness', 'dull', 'pore ', 'pigmentation', 'blackheads','whiteheads', 'blemishes', 'dark circles', 'eye bags', 'dark spots']\n",
    "x = [1,1,1,1,0,1,0,0,0,1,0,0,0,0,1,0,1,0]\n",
    "\n",
    "y = recs_essentials(x, None)\n",
    "y"
   ]
  },
  {
   "cell_type": "code",
   "execution_count": 33,
   "metadata": {},
   "outputs": [],
   "source": [
    "from selenium import webdriver\n",
    "from selenium.webdriver.common.by import By\n",
    "import urllib.request\n",
    "import os\n",
    "import json\n",
    "import pandas as pd\n",
    "\n",
    "driver = webdriver.Chrome()\n",
    "\n",
    "image_urls = []\n",
    "\n",
    "for url in df2['url'].values[500:]:\n",
    "    driver.get(url)\n",
    "    try:\n",
    "        image = driver.find_element(By.CLASS_NAME, 'image-grid-image').get_attribute(\"style\").split(\"url(\\\"\")[1].split('\");')[0]\n",
    "        image_urls.append(image)\n",
    "    except:\n",
    "        image_urls.append(\"\")"
   ]
  },
  {
   "cell_type": "code",
   "execution_count": 34,
   "metadata": {},
   "outputs": [
    {
     "data": {
      "text/plain": [
       "967"
      ]
     },
     "execution_count": 34,
     "metadata": {},
     "output_type": "execute_result"
    }
   ],
   "source": [
    "len(image_urls)"
   ]
  },
  {
   "cell_type": "code",
   "execution_count": null,
   "metadata": {},
   "outputs": [],
   "source": [
    "# es = df2.copy()\n",
    "# es['image url'] = image_urls\n",
    "\n",
    "# es.drop(columns=['cs'], inplace=True)\n",
    "# es.to_csv('essential_skin_care.csv')\n",
    "# es"
   ]
  }
 ],
 "metadata": {
  "kernelspec": {
   "display_name": ".venv",
   "language": "python",
   "name": "python3"
  },
  "language_info": {
   "codemirror_mode": {
    "name": "ipython",
    "version": 3
   },
   "file_extension": ".py",
   "mimetype": "text/x-python",
   "name": "python",
   "nbconvert_exporter": "python",
   "pygments_lexer": "ipython3",
   "version": "3.12.2"
  }
 },
 "nbformat": 4,
 "nbformat_minor": 2
}
