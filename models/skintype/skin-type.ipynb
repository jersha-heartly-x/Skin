{
 "cells": [
  {
   "cell_type": "code",
   "execution_count": 1,
   "metadata": {},
   "outputs": [],
   "source": [
    "import numpy as np # linear algebra\n",
    "import pandas as pd # data processing, CSV file I/O (e.g. pd.read_csv)\n",
    "\n",
    "from copy import deepcopy\n",
    "\n",
    "from torchvision import transforms\n",
    "from torchvision.models import resnet50, ResNet50_Weights\n",
    "\n",
    "from sklearn.model_selection import train_test_split\n",
    "\n",
    "from torch.utils.data import Dataset, DataLoader\n",
    "import torch\n",
    "import torch.nn as nn\n",
    "\n",
    "import matplotlib.pyplot as plt\n",
    "import seaborn as sns\n",
    "\n",
    "from PIL import Image\n",
    "import os\n",
    "from sklearn.metrics import accuracy_score, confusion_matrix, classification_report"
   ]
  },
  {
   "cell_type": "code",
   "execution_count": 2,
   "metadata": {},
   "outputs": [],
   "source": [
    "label_index = {\"dry\": 0, \"normal\": 1, \"oily\": 2}\n",
    "index_label = {0: \"dry\", 1: \"normal\", 2: \"oily\"}\n"
   ]
  },
  {
   "cell_type": "code",
   "execution_count": 3,
   "metadata": {},
   "outputs": [],
   "source": [
    "def create_df(base):\n",
    "    dd = {\"images\": [], \"labels\": []}\n",
    "    for i in os.listdir(base):\n",
    "        label = os.path.join(base, i)\n",
    "        for j in os.listdir(label):\n",
    "            img = os.path.join(label, j)\n",
    "            dd[\"images\"] += [img]\n",
    "            dd[\"labels\"] += [label_index[i]]\n",
    "    return pd.DataFrame(dd)\n",
    "\n",
    "\n",
    "\n",
    "train_df = create_df(\"../../datasets/Oily-Dry-Skin-Types/train\")\n",
    "val_df = create_df(\"../../datasets/Oily-Dry-Skin-Types/valid\")\n",
    "test_df = create_df(\"../../datasets/Oily-Dry-Skin-Types/test\")\n",
    "train_df = pd.concat([train_df, val_df, test_df])"
   ]
  },
  {
   "cell_type": "code",
   "execution_count": 4,
   "metadata": {},
   "outputs": [],
   "source": [
    "class Classification_Dataset(Dataset):\n",
    "    def __init__(self, data, transform):\n",
    "        super(Classification_Dataset, self).__init__()\n",
    "        self.data = data\n",
    "        self.transform = transform\n",
    "        \n",
    "    def __len__(self):\n",
    "        return len(self.data)\n",
    "    \n",
    "    def __getitem__(self, x):\n",
    "        img, label = self.data.iloc[x, 0], self.data.iloc[x, 1]\n",
    "        img = Image.open(img).convert(\"RGB\")\n",
    "        img = self.transform(np.array(img))\n",
    "        \n",
    "        return img, label"
   ]
  },
  {
   "cell_type": "code",
   "execution_count": 5,
   "metadata": {},
   "outputs": [
    {
     "data": {
      "text/html": [
       "<div>\n",
       "<style scoped>\n",
       "    .dataframe tbody tr th:only-of-type {\n",
       "        vertical-align: middle;\n",
       "    }\n",
       "\n",
       "    .dataframe tbody tr th {\n",
       "        vertical-align: top;\n",
       "    }\n",
       "\n",
       "    .dataframe thead th {\n",
       "        text-align: right;\n",
       "    }\n",
       "</style>\n",
       "<table border=\"1\" class=\"dataframe\">\n",
       "  <thead>\n",
       "    <tr style=\"text-align: right;\">\n",
       "      <th></th>\n",
       "      <th>images</th>\n",
       "      <th>labels</th>\n",
       "    </tr>\n",
       "  </thead>\n",
       "  <tbody>\n",
       "    <tr>\n",
       "      <th>1295</th>\n",
       "      <td>../../datasets/Oily-Dry-Skin-Types/train\\norma...</td>\n",
       "      <td>1</td>\n",
       "    </tr>\n",
       "    <tr>\n",
       "      <th>2312</th>\n",
       "      <td>../../datasets/Oily-Dry-Skin-Types/train\\oily\\...</td>\n",
       "      <td>2</td>\n",
       "    </tr>\n",
       "    <tr>\n",
       "      <th>764</th>\n",
       "      <td>../../datasets/Oily-Dry-Skin-Types/train\\norma...</td>\n",
       "      <td>1</td>\n",
       "    </tr>\n",
       "    <tr>\n",
       "      <th>195</th>\n",
       "      <td>../../datasets/Oily-Dry-Skin-Types/valid\\oily\\...</td>\n",
       "      <td>2</td>\n",
       "    </tr>\n",
       "    <tr>\n",
       "      <th>50</th>\n",
       "      <td>../../datasets/Oily-Dry-Skin-Types/valid\\dry\\d...</td>\n",
       "      <td>0</td>\n",
       "    </tr>\n",
       "    <tr>\n",
       "      <th>...</th>\n",
       "      <td>...</td>\n",
       "      <td>...</td>\n",
       "    </tr>\n",
       "    <tr>\n",
       "      <th>74</th>\n",
       "      <td>../../datasets/Oily-Dry-Skin-Types/test\\normal...</td>\n",
       "      <td>1</td>\n",
       "    </tr>\n",
       "    <tr>\n",
       "      <th>1095</th>\n",
       "      <td>../../datasets/Oily-Dry-Skin-Types/train\\norma...</td>\n",
       "      <td>1</td>\n",
       "    </tr>\n",
       "    <tr>\n",
       "      <th>1130</th>\n",
       "      <td>../../datasets/Oily-Dry-Skin-Types/train\\norma...</td>\n",
       "      <td>1</td>\n",
       "    </tr>\n",
       "    <tr>\n",
       "      <th>1294</th>\n",
       "      <td>../../datasets/Oily-Dry-Skin-Types/train\\norma...</td>\n",
       "      <td>1</td>\n",
       "    </tr>\n",
       "    <tr>\n",
       "      <th>860</th>\n",
       "      <td>../../datasets/Oily-Dry-Skin-Types/train\\norma...</td>\n",
       "      <td>1</td>\n",
       "    </tr>\n",
       "  </tbody>\n",
       "</table>\n",
       "<p>2521 rows × 2 columns</p>\n",
       "</div>"
      ],
      "text/plain": [
       "                                                 images  labels\n",
       "1295  ../../datasets/Oily-Dry-Skin-Types/train\\norma...       1\n",
       "2312  ../../datasets/Oily-Dry-Skin-Types/train\\oily\\...       2\n",
       "764   ../../datasets/Oily-Dry-Skin-Types/train\\norma...       1\n",
       "195   ../../datasets/Oily-Dry-Skin-Types/valid\\oily\\...       2\n",
       "50    ../../datasets/Oily-Dry-Skin-Types/valid\\dry\\d...       0\n",
       "...                                                 ...     ...\n",
       "74    ../../datasets/Oily-Dry-Skin-Types/test\\normal...       1\n",
       "1095  ../../datasets/Oily-Dry-Skin-Types/train\\norma...       1\n",
       "1130  ../../datasets/Oily-Dry-Skin-Types/train\\norma...       1\n",
       "1294  ../../datasets/Oily-Dry-Skin-Types/train\\norma...       1\n",
       "860   ../../datasets/Oily-Dry-Skin-Types/train\\norma...       1\n",
       "\n",
       "[2521 rows x 2 columns]"
      ]
     },
     "execution_count": 5,
     "metadata": {},
     "output_type": "execute_result"
    }
   ],
   "source": [
    "train, testing = train_test_split(train_df, random_state=42, test_size=0.2)\n",
    "val, test = train_test_split(testing, random_state=42, test_size=0.5)\n",
    "\n",
    "train"
   ]
  },
  {
   "cell_type": "code",
   "execution_count": 6,
   "metadata": {},
   "outputs": [],
   "source": [
    "EPOCHS = 20\n",
    "LR = 0.1\n",
    "STEP = 15\n",
    "GAMMA = 0.1\n",
    "BATCH = 32\n",
    "OUT_CLASSES = 3\n",
    "IMG_SIZE = 224"
   ]
  },
  {
   "cell_type": "code",
   "execution_count": 7,
   "metadata": {},
   "outputs": [],
   "source": [
    "train_transform = transforms.Compose([transforms.ToPILImage(),\n",
    "                               transforms.ToTensor(),\n",
    "                               transforms.Resize((IMG_SIZE, IMG_SIZE)),\n",
    "                                transforms.RandomVerticalFlip(0.6),\n",
    "                               transforms.Normalize(mean=[0.485, 0.456, 0.406],\n",
    "                     std=[0.229, 0.224, 0.225])])\n",
    "\n",
    "transform = transforms.Compose([transforms.ToPILImage(),\n",
    "                               transforms.ToTensor(),\n",
    "                               transforms.Resize((IMG_SIZE, IMG_SIZE)),\n",
    "                               transforms.Normalize(mean=[0.485, 0.456, 0.406],\n",
    "                     std=[0.229, 0.224, 0.225])])"
   ]
  },
  {
   "cell_type": "code",
   "execution_count": 8,
   "metadata": {},
   "outputs": [],
   "source": [
    "train_ds = Classification_Dataset(train, train_transform)\n",
    "val_ds = Classification_Dataset(val, transform)"
   ]
  },
  {
   "cell_type": "code",
   "execution_count": 9,
   "metadata": {},
   "outputs": [],
   "source": [
    "train_dl = DataLoader(train_ds, batch_size=BATCH, shuffle=True)\n",
    "val_dl = DataLoader(val_ds, batch_size=BATCH, shuffle=False)"
   ]
  },
  {
   "cell_type": "code",
   "execution_count": 10,
   "metadata": {},
   "outputs": [],
   "source": [
    "resnet = resnet50(weights=ResNet50_Weights.IMAGENET1K_V2)\n",
    "num_ftrs = resnet.fc.in_features\n",
    "resnet.fc.in_features = nn.Linear(num_ftrs, OUT_CLASSES)"
   ]
  },
  {
   "cell_type": "code",
   "execution_count": 11,
   "metadata": {},
   "outputs": [
    {
     "name": "stdout",
     "output_type": "stream",
     "text": [
      "cuda\n"
     ]
    }
   ],
   "source": [
    "device = \"cuda\" if torch.cuda.is_available() else \"cpu\"\n",
    "print(device)"
   ]
  },
  {
   "cell_type": "code",
   "execution_count": 12,
   "metadata": {},
   "outputs": [],
   "source": [
    "model = deepcopy(resnet)\n",
    "model = model.to(device)\n",
    "criterion = nn.CrossEntropyLoss()\n",
    "optimizer = torch.optim.SGD(model.parameters(), lr=LR)\n",
    "scheduler = torch.optim.lr_scheduler.StepLR(optimizer, step_size=STEP, gamma=GAMMA)"
   ]
  },
  {
   "cell_type": "markdown",
   "metadata": {},
   "source": [
    "## Training"
   ]
  },
  {
   "cell_type": "code",
   "execution_count": 13,
   "metadata": {},
   "outputs": [],
   "source": [
    "# best_model = deepcopy(model)\n",
    "# best_acc = 0\n",
    "\n",
    "# train_loss = []\n",
    "# train_acc = []\n",
    "# val_loss = []\n",
    "# val_acc = []\n",
    "\n",
    "# for i in range(1, EPOCHS+1):\n",
    "#     model.train()\n",
    "    \n",
    "#     diff = 0\n",
    "#     total = 0\n",
    "#     acc = 0\n",
    "    \n",
    "#     for data, target in train_dl:\n",
    "#         optimizer.zero_grad()\n",
    "#         if torch.cuda.is_available():\n",
    "#             data, target = data.cuda(), target.cuda()\n",
    "            \n",
    "#         out = model(data)\n",
    "#         loss = criterion(out, target)\n",
    "#         diff += loss.item()\n",
    "#         acc += (out.argmax(1) == target).sum().item()\n",
    "#         total += out.size(0)\n",
    "#         loss.backward()\n",
    "#         optimizer.step()\n",
    "        \n",
    "#     train_loss += [diff/total]\n",
    "#     train_acc += [acc/total]\n",
    "    \n",
    "#     model.eval()\n",
    "    \n",
    "#     diff = 0\n",
    "#     total = 0\n",
    "#     acc = 0\n",
    "    \n",
    "#     with torch.no_grad():\n",
    "#         for data, target in val_dl:\n",
    "#             if torch.cuda.is_available():\n",
    "#                 data, target = data.cuda(), target.cuda()\n",
    "                \n",
    "#             out = model(data)\n",
    "#             loss = criterion(out, target)\n",
    "#             diff += loss.item()\n",
    "#             acc += (out.argmax(1) == target).sum().item()\n",
    "#             total += out.size(0)\n",
    "            \n",
    "#     val_loss += [diff/total]\n",
    "#     val_acc += [acc/total]\n",
    "    \n",
    "#     if val_acc[-1] > best_acc:\n",
    "#         best_acc = val_acc[-1]\n",
    "#         best_model = deepcopy(model)\n",
    "        \n",
    "#     scheduler.step()\n",
    "    \n",
    "#     print(\"Epochs {} train loss {} acc {} val loss {} acc {}\".format(i, train_loss[-1],\n",
    "#                                                                     train_acc[-1], val_loss[-1],\n",
    "#                                                                     val_acc[-1]))"
   ]
  },
  {
   "cell_type": "code",
   "execution_count": 14,
   "metadata": {},
   "outputs": [],
   "source": [
    "best_model = torch.load(\"../../saved_models/skintype/best_20.pt\")"
   ]
  },
  {
   "cell_type": "code",
   "execution_count": 15,
   "metadata": {},
   "outputs": [],
   "source": [
    "def predict(x):\n",
    "    img = Image.open(x).convert(\"RGB\")\n",
    "    img = transform(np.array(img))\n",
    "    img = img.view(1, 3, 224, 224)\n",
    "    best_model.eval()\n",
    "    with torch.no_grad():\n",
    "        if torch.cuda.is_available():\n",
    "            img = img.cuda()\n",
    "        \n",
    "        out = best_model(img)\n",
    "        \n",
    "        return out.argmax(1).item()"
   ]
  },
  {
   "cell_type": "code",
   "execution_count": 16,
   "metadata": {},
   "outputs": [],
   "source": [
    "pred = []\n",
    "truth = []\n",
    "\n",
    "for i in range(test.shape[0]):\n",
    "    pred += [predict(test.iloc[i, 0])]\n",
    "    truth += [test.iloc[i, 1]]"
   ]
  },
  {
   "cell_type": "code",
   "execution_count": 17,
   "metadata": {},
   "outputs": [
    {
     "data": {
      "image/png": "[encoded data removed]",
      "text/plain": [
       "<Figure size 640x480 with 2 Axes>"
      ]
     },
     "metadata": {},
     "output_type": "display_data"
    }
   ],
   "source": [
    "score = accuracy_score(truth, pred)\n",
    "report = classification_report(truth, pred)\n",
    "cm = confusion_matrix(truth, pred)\n",
    "sns.heatmap(cm, annot=True)\n",
    "plt.title(\"Accuracy: {}%\".format(round(score*100, 2)))\n",
    "plt.show()"
   ]
  },
  {
   "cell_type": "code",
   "execution_count": 18,
   "metadata": {},
   "outputs": [
    {
     "name": "stdout",
     "output_type": "stream",
     "text": [
      "              precision    recall  f1-score   support\n",
      "\n",
      "           0       0.97      0.93      0.95        97\n",
      "           1       0.88      0.97      0.92       116\n",
      "           2       0.98      0.89      0.93       103\n",
      "\n",
      "    accuracy                           0.93       316\n",
      "   macro avg       0.94      0.93      0.93       316\n",
      "weighted avg       0.94      0.93      0.93       316\n",
      "\n"
     ]
    }
   ],
   "source": [
    "print(report)"
   ]
  }
 ],
 "metadata": {
  "kernelspec": {
   "display_name": ".venv",
   "language": "python",
   "name": "python3"
  },
  "language_info": {
   "codemirror_mode": {
    "name": "ipython",
    "version": 3
   },
   "file_extension": ".py",
   "mimetype": "text/x-python",
   "name": "python",
   "nbconvert_exporter": "python",
   "pygments_lexer": "ipython3",
   "version": "3.12.2"
  }
 },
 "nbformat": 4,
 "nbformat_minor": 2
}
